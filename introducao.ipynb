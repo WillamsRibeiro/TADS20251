{
 "cells": [
  {
   "cell_type": "markdown",
   "id": "685598c8",
   "metadata": {},
   "source": [
    "#  Meu querido notebook"
   ]
  },
  {
   "cell_type": "markdown",
   "id": "13053101",
   "metadata": {},
   "source": [
    "não devo usar isso!"
   ]
  },
  {
   "cell_type": "markdown",
   "id": "6f871a1d",
   "metadata": {},
   "source": [
    "## Meu primeiro notebook"
   ]
  },
  {
   "cell_type": "code",
   "execution_count": 2,
   "id": "b7e5996a",
   "metadata": {},
   "outputs": [
    {
     "name": "stdout",
     "output_type": "stream",
     "text": [
      " olá mundo!\n"
     ]
    }
   ],
   "source": [
    "print (\" olá mundo!\")"
   ]
  }
 ],
 "metadata": {
  "kernelspec": {
   "display_name": "Python 3",
   "language": "python",
   "name": "python3"
  },
  "language_info": {
   "codemirror_mode": {
    "name": "ipython",
    "version": 3
   },
   "file_extension": ".py",
   "mimetype": "text/x-python",
   "name": "python",
   "nbconvert_exporter": "python",
   "pygments_lexer": "ipython3",
   "version": "3.12.1"
  }
 },
 "nbformat": 4,
 "nbformat_minor": 5
}
